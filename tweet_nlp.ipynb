{
  "nbformat": 4,
  "nbformat_minor": 0,
  "metadata": {
    "colab": {
      "name": "tweet_nlp.ipynb",
      "provenance": [],
      "mount_file_id": "1q_46ROWPvHkKY3wRK7SJYxP9McFyN70y",
      "authorship_tag": "ABX9TyOqjVwjo9M1HfRm5GO3HTfO",
      "include_colab_link": true
    },
    "kernelspec": {
      "name": "python3",
      "display_name": "Python 3"
    },
    "language_info": {
      "name": "python"
    },
    "accelerator": "GPU"
  },
  "cells": [
    {
      "cell_type": "markdown",
      "metadata": {
        "id": "view-in-github",
        "colab_type": "text"
      },
      "source": [
        "<a href=\"https://colab.research.google.com/github/Adarsh63/hello-project/blob/main/tweet_nlp.ipynb\" target=\"_parent\"><img src=\"https://colab.research.google.com/assets/colab-badge.svg\" alt=\"Open In Colab\"/></a>"
      ]
    },
    {
      "cell_type": "markdown",
      "metadata": {
        "id": "YS_FnkWFWUf2"
      },
      "source": [
        "* Download the  pretrained fastText\n",
        "* preprocessing done using word embading \n"
      ]
    },
    {
      "cell_type": "markdown",
      "metadata": {
        "id": "6eGqlAE8jhvD"
      },
      "source": [
        "*FastText pre-trained word vectors for 157 languages, trained on Common Crawl and Wikipedia using fastText. These models were trained using CBOW with position-weights, in dimension 300, with character n-grams of length 5, a window of size 5 and 10 negatives."
      ]
    },
    {
      "cell_type": "code",
      "metadata": {
        "id": "YohIEOxDVZ1Y"
      },
      "source": [
        "#pull the pretrained model \n",
        "import requests, zipfile, io\n",
        "zip_file_url = \"https://dl.fbaipublicfiles.com/fasttext/vectors-english/crawl-300d-2M.vec.zip\"\n",
        "r = requests.get(zip_file_url)\n",
        "z = zipfile.ZipFile(io.BytesIO(r.content))\n",
        "z.extractall()"
      ],
      "execution_count": null,
      "outputs": []
    },
    {
      "cell_type": "code",
      "metadata": {
        "colab": {
          "base_uri": "https://localhost:8080/"
        },
        "id": "t0JuBNDJaZsB",
        "outputId": "eceb6428-f3fc-4552-f536-46024329fc93"
      },
      "source": [
        "#For Pre-Processing\n",
        "from tqdm import tqdm\n",
        "import nltk\n",
        "from nltk.corpus import stopwords\n",
        "nltk.download('stopwords')\n",
        "nltk.download('punkt')\n",
        "from nltk.tokenize import RegexpTokenizer \n",
        "from nltk.tokenize import word_tokenize\n",
        "import os, re, csv, math, codecs\n",
        "\n",
        "\n",
        "# For Training\n",
        "import keras\n",
        "from keras import optimizers\n",
        "from keras import backend as K\n",
        "from keras import regularizers\n",
        "from keras.models import Sequential\n",
        "from keras.layers import Dense, Activation, Dropout, Flatten\n",
        "from keras.layers import Embedding, Conv1D, MaxPooling1D, GlobalMaxPooling1D\n",
        "from tensorflow.keras.layers import Embedding, LSTM, Dense, Dropout, Bidirectional\n",
        "#from keras.utils import plot_model\n",
        "from keras.preprocessing import sequence\n",
        "from keras.preprocessing.text import Tokenizer\n",
        "from keras.callbacks import EarlyStopping\n",
        "\n",
        "# For array, dataset, and visualizing\n",
        "import numpy as np\n",
        "import pandas as pd\n",
        "import seaborn as sns\n",
        "import matplotlib.pyplot as plt\n",
        "sns.\n",
        "sns.set_style(\"whitegrid\")\n",
        "np.random.seed(0)\n",
        "\n",
        "MAX_NB_WORDS = 100000\n",
        "tokenizer = RegexpTokenizer(r'\\w+')\n",
        "stop_words = set(stopwords.words('english'))\n",
        "stop_words.update(['.', ',', '\"', \"'\", ':', ';', '(', ')', '[', ']', '{', '}'])"
      ],
      "execution_count": null,
      "outputs": [
        {
          "output_type": "stream",
          "text": [
            "[nltk_data] Downloading package stopwords to /root/nltk_data...\n",
            "[nltk_data]   Unzipping corpora/stopwords.zip.\n",
            "[nltk_data] Downloading package punkt to /root/nltk_data...\n",
            "[nltk_data]   Unzipping tokenizers/punkt.zip.\n"
          ],
          "name": "stdout"
        }
      ]
    },
    {
      "cell_type": "code",
      "metadata": {
        "colab": {
          "base_uri": "https://localhost:8080/"
        },
        "id": "_z0DsA8MVYv_",
        "outputId": "738b73c3-f012-4870-a6c4-1568fa21005f"
      },
      "source": [
        "print('loading word embeddings...')\n",
        "\n",
        "embeddings_index = {}\n",
        "f = codecs.open('crawl-300d-2M.vec', encoding='utf-8')\n",
        "\n",
        "for line in tqdm(f):\n",
        "    values = line.rstrip().rsplit(' ')\n",
        "    word = values[0]\n",
        "    coefs = np.asarray(values[1:], dtype='float32')\n",
        "    embeddings_index[word] = coefs\n",
        "f.close()\n",
        "\n",
        "print('found %s word vectors' % len(embeddings_index))"
      ],
      "execution_count": null,
      "outputs": [
        {
          "output_type": "stream",
          "text": [
            "2454it [00:00, 12616.29it/s]"
          ],
          "name": "stderr"
        },
        {
          "output_type": "stream",
          "text": [
            "loading word embeddings...\n"
          ],
          "name": "stdout"
        },
        {
          "output_type": "stream",
          "text": [
            "1999996it [02:59, 11112.54it/s]"
          ],
          "name": "stderr"
        },
        {
          "output_type": "stream",
          "text": [
            "found 1999996 word vectors\n"
          ],
          "name": "stdout"
        },
        {
          "output_type": "stream",
          "text": [
            "\n"
          ],
          "name": "stderr"
        }
      ]
    },
    {
      "cell_type": "code",
      "metadata": {
        "colab": {
          "base_uri": "https://localhost:8080/"
        },
        "id": "RRKsvK1pVW48",
        "outputId": "2db173d2-ab30-4c1b-c250-508e9c130286"
      },
      "source": [
        "#load the data\n",
        "train = pd.read_csv(\"/content/drive/MyDrive/nlp_tweeter/train.csv\")\n",
        "test = pd.read_csv(\"/content/drive/MyDrive/nlp_tweeter/test.csv\")\n",
        "print(\"Number of training data \", train.shape[0])\n",
        "print(\"Number of testing data: \", test.shape[0])"
      ],
      "execution_count": null,
      "outputs": [
        {
          "output_type": "stream",
          "text": [
            "Number of training data  7613\n",
            "Number of testing data:  3263\n"
          ],
          "name": "stdout"
        }
      ]
    },
    {
      "cell_type": "code",
      "metadata": {
        "colab": {
          "base_uri": "https://localhost:8080/",
          "height": 200
        },
        "id": "UnMB85ohb16f",
        "outputId": "89f5d60e-6e2b-4826-a9cf-b92e7d92ce1d"
      },
      "source": [
        "train.head()"
      ],
      "execution_count": null,
      "outputs": [
        {
          "output_type": "execute_result",
          "data": {
            "text/html": [
              "<div>\n",
              "<style scoped>\n",
              "    .dataframe tbody tr th:only-of-type {\n",
              "        vertical-align: middle;\n",
              "    }\n",
              "\n",
              "    .dataframe tbody tr th {\n",
              "        vertical-align: top;\n",
              "    }\n",
              "\n",
              "    .dataframe thead th {\n",
              "        text-align: right;\n",
              "    }\n",
              "</style>\n",
              "<table border=\"1\" class=\"dataframe\">\n",
              "  <thead>\n",
              "    <tr style=\"text-align: right;\">\n",
              "      <th></th>\n",
              "      <th>id</th>\n",
              "      <th>keyword</th>\n",
              "      <th>location</th>\n",
              "      <th>text</th>\n",
              "      <th>target</th>\n",
              "    </tr>\n",
              "  </thead>\n",
              "  <tbody>\n",
              "    <tr>\n",
              "      <th>0</th>\n",
              "      <td>1</td>\n",
              "      <td>NaN</td>\n",
              "      <td>NaN</td>\n",
              "      <td>Our Deeds are the Reason of this #earthquake M...</td>\n",
              "      <td>1</td>\n",
              "    </tr>\n",
              "    <tr>\n",
              "      <th>1</th>\n",
              "      <td>4</td>\n",
              "      <td>NaN</td>\n",
              "      <td>NaN</td>\n",
              "      <td>Forest fire near La Ronge Sask. Canada</td>\n",
              "      <td>1</td>\n",
              "    </tr>\n",
              "    <tr>\n",
              "      <th>2</th>\n",
              "      <td>5</td>\n",
              "      <td>NaN</td>\n",
              "      <td>NaN</td>\n",
              "      <td>All residents asked to 'shelter in place' are ...</td>\n",
              "      <td>1</td>\n",
              "    </tr>\n",
              "    <tr>\n",
              "      <th>3</th>\n",
              "      <td>6</td>\n",
              "      <td>NaN</td>\n",
              "      <td>NaN</td>\n",
              "      <td>13,000 people receive #wildfires evacuation or...</td>\n",
              "      <td>1</td>\n",
              "    </tr>\n",
              "    <tr>\n",
              "      <th>4</th>\n",
              "      <td>7</td>\n",
              "      <td>NaN</td>\n",
              "      <td>NaN</td>\n",
              "      <td>Just got sent this photo from Ruby #Alaska as ...</td>\n",
              "      <td>1</td>\n",
              "    </tr>\n",
              "  </tbody>\n",
              "</table>\n",
              "</div>"
            ],
            "text/plain": [
              "   id keyword  ...                                               text target\n",
              "0   1     NaN  ...  Our Deeds are the Reason of this #earthquake M...      1\n",
              "1   4     NaN  ...             Forest fire near La Ronge Sask. Canada      1\n",
              "2   5     NaN  ...  All residents asked to 'shelter in place' are ...      1\n",
              "3   6     NaN  ...  13,000 people receive #wildfires evacuation or...      1\n",
              "4   7     NaN  ...  Just got sent this photo from Ruby #Alaska as ...      1\n",
              "\n",
              "[5 rows x 5 columns]"
            ]
          },
          "metadata": {
            "tags": []
          },
          "execution_count": 5
        }
      ]
    },
    {
      "cell_type": "code",
      "metadata": {
        "colab": {
          "base_uri": "https://localhost:8080/",
          "height": 200
        },
        "id": "zoogUtL0gXkE",
        "outputId": "30a83d0d-156a-459d-85ea-7751ae3383c5"
      },
      "source": [
        "test.head()"
      ],
      "execution_count": null,
      "outputs": [
        {
          "output_type": "execute_result",
          "data": {
            "text/html": [
              "<div>\n",
              "<style scoped>\n",
              "    .dataframe tbody tr th:only-of-type {\n",
              "        vertical-align: middle;\n",
              "    }\n",
              "\n",
              "    .dataframe tbody tr th {\n",
              "        vertical-align: top;\n",
              "    }\n",
              "\n",
              "    .dataframe thead th {\n",
              "        text-align: right;\n",
              "    }\n",
              "</style>\n",
              "<table border=\"1\" class=\"dataframe\">\n",
              "  <thead>\n",
              "    <tr style=\"text-align: right;\">\n",
              "      <th></th>\n",
              "      <th>id</th>\n",
              "      <th>keyword</th>\n",
              "      <th>location</th>\n",
              "      <th>text</th>\n",
              "    </tr>\n",
              "  </thead>\n",
              "  <tbody>\n",
              "    <tr>\n",
              "      <th>0</th>\n",
              "      <td>0</td>\n",
              "      <td>NaN</td>\n",
              "      <td>NaN</td>\n",
              "      <td>Just happened a terrible car crash</td>\n",
              "    </tr>\n",
              "    <tr>\n",
              "      <th>1</th>\n",
              "      <td>2</td>\n",
              "      <td>NaN</td>\n",
              "      <td>NaN</td>\n",
              "      <td>Heard about #earthquake is different cities, s...</td>\n",
              "    </tr>\n",
              "    <tr>\n",
              "      <th>2</th>\n",
              "      <td>3</td>\n",
              "      <td>NaN</td>\n",
              "      <td>NaN</td>\n",
              "      <td>there is a forest fire at spot pond, geese are...</td>\n",
              "    </tr>\n",
              "    <tr>\n",
              "      <th>3</th>\n",
              "      <td>9</td>\n",
              "      <td>NaN</td>\n",
              "      <td>NaN</td>\n",
              "      <td>Apocalypse lighting. #Spokane #wildfires</td>\n",
              "    </tr>\n",
              "    <tr>\n",
              "      <th>4</th>\n",
              "      <td>11</td>\n",
              "      <td>NaN</td>\n",
              "      <td>NaN</td>\n",
              "      <td>Typhoon Soudelor kills 28 in China and Taiwan</td>\n",
              "    </tr>\n",
              "  </tbody>\n",
              "</table>\n",
              "</div>"
            ],
            "text/plain": [
              "   id keyword location                                               text\n",
              "0   0     NaN      NaN                 Just happened a terrible car crash\n",
              "1   2     NaN      NaN  Heard about #earthquake is different cities, s...\n",
              "2   3     NaN      NaN  there is a forest fire at spot pond, geese are...\n",
              "3   9     NaN      NaN           Apocalypse lighting. #Spokane #wildfires\n",
              "4  11     NaN      NaN      Typhoon Soudelor kills 28 in China and Taiwan"
            ]
          },
          "metadata": {
            "tags": []
          },
          "execution_count": 6
        }
      ]
    },
    {
      "cell_type": "code",
      "metadata": {
        "colab": {
          "base_uri": "https://localhost:8080/",
          "height": 352
        },
        "id": "w8_3sWnUtnuJ",
        "outputId": "30506960-54d1-4f3c-b15e-3ca5438c8a7c"
      },
      "source": [
        "label_names = [\"target\"]\n",
        "y_train = train[label_names].values\n",
        "train['doc_len'] = train['text'].apply(lambda words: len(words.split(\" \")))\n",
        "max_seq_len = np.round(train['doc_len'].mean() + train['doc_len'].std()).astype(int)\n",
        "\n",
        "#plot shows the distribution of the sentance lenth \n",
        "sns.distplot(train['doc_len'], hist=True, kde=True, color='b', label='doc len')\n",
        "plt.axvline(x=max_seq_len, color='k', linestyle='--', label='max len')\n",
        "plt.title('comment length'); plt.legend()\n",
        "plt.show()"
      ],
      "execution_count": null,
      "outputs": [
        {
          "output_type": "stream",
          "text": [
            "/usr/local/lib/python3.7/dist-packages/seaborn/distributions.py:2557: FutureWarning: `distplot` is a deprecated function and will be removed in a future version. Please adapt your code to use either `displot` (a figure-level function with similar flexibility) or `histplot` (an axes-level function for histograms).\n",
            "  warnings.warn(msg, FutureWarning)\n"
          ],
          "name": "stderr"
        },
        {
          "output_type": "display_data",
          "data": {
            "image/png": "[encoded data removed]",
            "text/plain": [
              "<Figure size 432x288 with 1 Axes>"
            ]
          },
          "metadata": {
            "tags": []
          }
        }
      ]
    },
    {
      "cell_type": "code",
      "metadata": {
        "colab": {
          "base_uri": "https://localhost:8080/"
        },
        "id": "c0wr7e6_s_q9",
        "outputId": "f6439551-3273-4ba7-cb25-7e35e0194c92"
      },
      "source": [
        "from sklearn.utils import shuffle \n",
        "\n",
        "raw_docs_train = train['text'].tolist()\n",
        "raw_docs_test = test['text'].tolist() \n",
        "num_classes = len(label_names)\n",
        "\n",
        "print(\"pre-processing train data...\")\n",
        "\n",
        "processed_docs_train = []\n",
        "for doc in tqdm(raw_docs_train):\n",
        "    tokens = word_tokenize(doc)\n",
        "    filtered = [word for word in tokens if word not in stop_words]\n",
        "    processed_docs_train.append(\" \".join(filtered))\n",
        "#end for train\n",
        "\n",
        "processed_docs_test = []\n",
        "for doc in tqdm(raw_docs_test):\n",
        "    tokens = word_tokenize(doc)\n",
        "    filtered = [word for word in tokens if word not in stop_words]\n",
        "    processed_docs_test.append(\" \".join(filtered))\n",
        "#end for test \n",
        "\n",
        "print(\"tokenizing input data...\")\n",
        "tokenizer = Tokenizer(num_words=MAX_NB_WORDS, lower=True, char_level=False)\n",
        "tokenizer.fit_on_texts(processed_docs_train + processed_docs_test)  #leaky\n",
        "word_seq_train = tokenizer.texts_to_sequences(processed_docs_train)\n",
        "word_seq_test = tokenizer.texts_to_sequences(processed_docs_test)\n",
        "word_index = tokenizer.word_index\n",
        "print(\"dictionary size: \", len(word_index))\n",
        "\n",
        "#pad sequences\n",
        "word_seq_train = sequence.pad_sequences(word_seq_train, maxlen=max_seq_len)\n",
        "word_seq_test = sequence.pad_sequences(word_seq_test, maxlen=max_seq_len)"
      ],
      "execution_count": null,
      "outputs": [
        {
          "output_type": "stream",
          "text": [
            "  8%|▊         | 584/7613 [00:00<00:01, 5836.00it/s]"
          ],
          "name": "stderr"
        },
        {
          "output_type": "stream",
          "text": [
            "pre-processing train data...\n"
          ],
          "name": "stdout"
        },
        {
          "output_type": "stream",
          "text": [
            "100%|██████████| 7613/7613 [00:01<00:00, 5636.17it/s]\n",
            "100%|██████████| 3263/3263 [00:00<00:00, 5606.23it/s]\n"
          ],
          "name": "stderr"
        },
        {
          "output_type": "stream",
          "text": [
            "tokenizing input data...\n",
            "dictionary size:  28717\n"
          ],
          "name": "stdout"
        }
      ]
    },
    {
      "cell_type": "code",
      "metadata": {
        "id": "-ae1RRelwzmd"
      },
      "source": [
        "#training params\n",
        "batch_size = 250\n",
        "num_epochs = 40\n",
        "\n",
        "#model parameters\n",
        "num_filters = 64 \n",
        "embed_dim = 300 \n",
        "weight_decay = 1e-4"
      ],
      "execution_count": null,
      "outputs": []
    },
    {
      "cell_type": "code",
      "metadata": {
        "colab": {
          "base_uri": "https://localhost:8080/"
        },
        "id": "T1B3hAwDw4jo",
        "outputId": "1ad3a353-4c56-4863-8539-92311e73c2ff"
      },
      "source": [
        "#embedding matrix\n",
        "\n",
        "print('preparing embedding matrix...')\n",
        "\n",
        "words_not_found = []\n",
        "nb_words = min(MAX_NB_WORDS, len(word_index)+1)\n",
        "embedding_matrix = np.zeros((nb_words, embed_dim))\n",
        "\n",
        "for word, i in word_index.items():\n",
        "    if i >= nb_words:\n",
        "        continue\n",
        "    embedding_vector = embeddings_index.get(word)\n",
        "    if (embedding_vector is not None) and len(embedding_vector) > 0:\n",
        "        # words not found in embedding index will be all-zeros.\n",
        "        embedding_matrix[i] = embedding_vector\n",
        "    else:\n",
        "        words_not_found.append(word)\n",
        "print('number of null word embeddings: %d' % np.sum(np.sum(embedding_matrix, axis=1) == 0))"
      ],
      "execution_count": null,
      "outputs": [
        {
          "output_type": "stream",
          "text": [
            "preparing embedding matrix...\n",
            "number of null word embeddings: 13014\n"
          ],
          "name": "stdout"
        }
      ]
    },
    {
      "cell_type": "code",
      "metadata": {
        "colab": {
          "base_uri": "https://localhost:8080/"
        },
        "id": "MRY--5n_w81p",
        "outputId": "8116d625-86dd-4e9d-b77e-360537377800"
      },
      "source": [
        "print(\"sample words not found: \", np.random.choice(words_not_found, 15))"
      ],
      "execution_count": null,
      "outputs": [
        {
          "output_type": "stream",
          "text": [
            "sample words not found:  ['vicken52' 'ayfdjeb7hy' 'pje607uxlp' 'julescheff' 'hotchip'\n",
            " 'whitewalkers' 'jamilazzaini' '92fwtobi3u' 'enqascgfyw' 'enqascgfyw'\n",
            " '672by6oojn' 'bj4haavaye' 'imsushickoflove' 'mjfdcrjs8j' 'sjxllzosw7']\n"
          ],
          "name": "stdout"
        }
      ]
    },
    {
      "cell_type": "markdown",
      "metadata": {
        "id": "OEfdakfSxEHO"
      },
      "source": [
        "*\n"
      ]
    },
    {
      "cell_type": "code",
      "metadata": {
        "colab": {
          "base_uri": "https://localhost:8080/"
        },
        "id": "knntE6hixA09",
        "outputId": "85381280-7901-4ed8-dbcc-bc7b7ad07811"
      },
      "source": [
        "from keras.layers import BatchNormalization\n",
        "import tensorflow as tf\n",
        "\n",
        "model = tf.keras.Sequential()\n",
        "\n",
        "model.add(Embedding(nb_words,embed_dim,input_length=max_seq_len, weights=[embedding_matrix],trainable=False))\n",
        "\n",
        "model.add(Dropout(0.3))\n",
        "model.add(Dense(32,activation='relu'))\n",
        "model.add(Bidirectional(LSTM(64,return_sequences= True)))\n",
        "model.add(Bidirectional(LSTM(64,return_sequences= True)))\n",
        "model.add(Bidirectional(LSTM(64,return_sequences= True)))\n",
        "model.add(Bidirectional(LSTM(64,return_sequences= True)))\n",
        "model.add(Bidirectional(LSTM(32)))\n",
        "model.add(Dense(32,activation='relu'))\n",
        "model.add(Dropout(0.3))\n",
        "\n",
        "model.add(Dense(1,activation='sigmoid'))\n",
        "model.summary()"
      ],
      "execution_count": null,
      "outputs": [
        {
          "output_type": "stream",
          "text": [
            "Model: \"sequential_4\"\n",
            "_________________________________________________________________\n",
            "Layer (type)                 Output Shape              Param #   \n",
            "=================================================================\n",
            "embedding_4 (Embedding)      (None, 21, 300)           8615400   \n",
            "_________________________________________________________________\n",
            "dropout_8 (Dropout)          (None, 21, 300)           0         \n",
            "_________________________________________________________________\n",
            "dense_12 (Dense)             (None, 21, 32)            9632      \n",
            "_________________________________________________________________\n",
            "bidirectional_20 (Bidirectio (None, 21, 128)           49664     \n",
            "_________________________________________________________________\n",
            "bidirectional_21 (Bidirectio (None, 21, 128)           98816     \n",
            "_________________________________________________________________\n",
            "bidirectional_22 (Bidirectio (None, 21, 128)           98816     \n",
            "_________________________________________________________________\n",
            "bidirectional_23 (Bidirectio (None, 21, 128)           98816     \n",
            "_________________________________________________________________\n",
            "bidirectional_24 (Bidirectio (None, 64)                41216     \n",
            "_________________________________________________________________\n",
            "dense_13 (Dense)             (None, 32)                2080      \n",
            "_________________________________________________________________\n",
            "dropout_9 (Dropout)          (None, 32)                0         \n",
            "_________________________________________________________________\n",
            "dense_14 (Dense)             (None, 1)                 33        \n",
            "=================================================================\n",
            "Total params: 9,014,473\n",
            "Trainable params: 399,073\n",
            "Non-trainable params: 8,615,400\n",
            "_________________________________________________________________\n"
          ],
          "name": "stdout"
        }
      ]
    },
    {
      "cell_type": "code",
      "metadata": {
        "id": "duVhpcZZxThl"
      },
      "source": [
        "\n",
        "from keras.optimizers import RMSprop\n",
        "from keras.callbacks import ModelCheckpoint\n",
        "from tensorflow.keras.callbacks import EarlyStopping\n",
        "\n",
        "model.compile(loss='binary_crossentropy', optimizer='adam', metrics=['accuracy'])"
      ],
      "execution_count": null,
      "outputs": []
    },
    {
      "cell_type": "code",
      "metadata": {
        "colab": {
          "base_uri": "https://localhost:8080/"
        },
        "id": "ugf8W-3hxZxV",
        "outputId": "46f85da5-03ba-4646-b9aa-f024ac03028e"
      },
      "source": [
        "es_callback = EarlyStopping(monitor='val_loss', patience=3)\n",
        "\n",
        "history = model.fit(word_seq_train, y_train, batch_size=250,\n",
        "          epochs=num_epochs, validation_split=0.3, callbacks=[es_callback], shuffle=False)"
      ],
      "execution_count": null,
      "outputs": [
        {
          "output_type": "stream",
          "text": [
            "Epoch 1/40\n",
            "22/22 [==============================] - 1s 32ms/step - loss: 0.4176 - accuracy: 0.8292 - val_loss: 0.4085 - val_accuracy: 0.8218\n",
            "Epoch 2/40\n",
            "22/22 [==============================] - 1s 31ms/step - loss: 0.4099 - accuracy: 0.8264 - val_loss: 0.4070 - val_accuracy: 0.8214\n",
            "Epoch 3/40\n",
            "22/22 [==============================] - 1s 30ms/step - loss: 0.4012 - accuracy: 0.8360 - val_loss: 0.4146 - val_accuracy: 0.8157\n",
            "Epoch 4/40\n",
            "22/22 [==============================] - 1s 31ms/step - loss: 0.4030 - accuracy: 0.8354 - val_loss: 0.4104 - val_accuracy: 0.8227\n",
            "Epoch 5/40\n",
            "22/22 [==============================] - 1s 31ms/step - loss: 0.3973 - accuracy: 0.8358 - val_loss: 0.4059 - val_accuracy: 0.8218\n",
            "Epoch 6/40\n",
            "22/22 [==============================] - 1s 30ms/step - loss: 0.3904 - accuracy: 0.8397 - val_loss: 0.4014 - val_accuracy: 0.8227\n",
            "Epoch 7/40\n",
            "22/22 [==============================] - 1s 31ms/step - loss: 0.3846 - accuracy: 0.8358 - val_loss: 0.4063 - val_accuracy: 0.8244\n",
            "Epoch 8/40\n",
            "22/22 [==============================] - 1s 30ms/step - loss: 0.3769 - accuracy: 0.8442 - val_loss: 0.4084 - val_accuracy: 0.8201\n",
            "Epoch 9/40\n",
            "22/22 [==============================] - 1s 30ms/step - loss: 0.3753 - accuracy: 0.8414 - val_loss: 0.4098 - val_accuracy: 0.8201\n"
          ],
          "name": "stdout"
        }
      ]
    },
    {
      "cell_type": "code",
      "metadata": {
        "id": "_Lh07lOxfceW"
      },
      "source": [
        "#save model \n",
        "#model = model.save(\"history.h5\")"
      ],
      "execution_count": null,
      "outputs": []
    },
    {
      "cell_type": "code",
      "metadata": {
        "colab": {
          "base_uri": "https://localhost:8080/",
          "height": 295
        },
        "id": "193KAp_li2fv",
        "outputId": "9aedfb5f-7237-4646-c6da-559eadd7bca1"
      },
      "source": [
        "#generate plots\n",
        "plt.figure()\n",
        "plt.plot(history.history['loss'], lw=2.0, color='b', label='train')\n",
        "plt.plot(history.history['val_loss'], lw=2.0, color='r', label='val')\n",
        "plt.title('LSTM sentiment')\n",
        "plt.xlabel('Epochs')\n",
        "plt.ylabel('Cross-Entropy Loss')\n",
        "plt.legend(loc='upper right')\n",
        "plt.show()"
      ],
      "execution_count": null,
      "outputs": [
        {
          "output_type": "display_data",
          "data": {
            "image/png": "[encoded data removed]",
            "text/plain": [
              "<Figure size 432x288 with 1 Axes>"
            ]
          },
          "metadata": {
            "tags": []
          }
        }
      ]
    },
    {
      "cell_type": "code",
      "metadata": {
        "id": "_0tpwvRTir-i",
        "colab": {
          "base_uri": "https://localhost:8080/",
          "height": 295
        },
        "outputId": "1212f326-6f6c-4c44-a7b7-d7bb65407a2f"
      },
      "source": [
        "\n",
        "plt.figure()\n",
        "plt.plot(history.history['accuracy'], lw=2.0, color='b', label='train')\n",
        "plt.plot(history.history['val_accuracy'], lw=2.0, color='r', label='val')\n",
        "plt.title('LSTM sentiment')\n",
        "plt.xlabel('Epochs')\n",
        "plt.ylabel('Accuracy')\n",
        "plt.legend(loc='upper left')\n",
        "plt.show()"
      ],
      "execution_count": null,
      "outputs": [
        {
          "output_type": "display_data",
          "data": {
            "image/png": "[encoded data removed]",
            "text/plain": [
              "<Figure size 432x288 with 1 Axes>"
            ]
          },
          "metadata": {
            "tags": []
          }
        }
      ]
    },
    {
      "cell_type": "markdown",
      "metadata": {
        "id": "6x7_FgbujEaj"
      },
      "source": [
        "# prediction\n"
      ]
    },
    {
      "cell_type": "code",
      "metadata": {
        "colab": {
          "base_uri": "https://localhost:8080/"
        },
        "id": "-WeUODbhbHP-",
        "outputId": "be365014-b75d-4920-a321-e8d8a7946822"
      },
      "source": [
        "\n",
        "predictions = model.predict_classes(word_seq_test)"
      ],
      "execution_count": null,
      "outputs": [
        {
          "output_type": "stream",
          "text": [
            "/usr/local/lib/python3.7/dist-packages/tensorflow/python/keras/engine/sequential.py:455: UserWarning: `model.predict_classes()` is deprecated and will be removed after 2021-01-01. Please use instead:* `np.argmax(model.predict(x), axis=-1)`,   if your model does multi-class classification   (e.g. if it uses a `softmax` last-layer activation).* `(model.predict(x) > 0.5).astype(\"int32\")`,   if your model does binary classification   (e.g. if it uses a `sigmoid` last-layer activation).\n",
            "  warnings.warn('`model.predict_classes()` is deprecated and '\n"
          ],
          "name": "stderr"
        }
      ]
    },
    {
      "cell_type": "code",
      "metadata": {
        "id": "99iAKG9VdwFo"
      },
      "source": [
        "\n",
        "from sklearn.metrics import classification_report, accuracy_score, multilabel_confusion_matrix, confusion_matrix"
      ],
      "execution_count": null,
      "outputs": []
    },
    {
      "cell_type": "code",
      "metadata": {
        "id": "VwPmNlf-fNUe"
      },
      "source": [
        "target_names = [\"fack\", \"real\"]"
      ],
      "execution_count": null,
      "outputs": []
    },
    {
      "cell_type": "code",
      "metadata": {
        "colab": {
          "base_uri": "https://localhost:8080/"
        },
        "id": "Iinosv1GabK6",
        "outputId": "ca6d7f15-4f54-42af-b2fc-60720b52397f"
      },
      "source": [
        "submission_5= pd.DataFrame(predictions, columns=['target'])\n",
        "submission_5['id'] = test['id']\n",
        "submission_5.set_index('id', inplace=True)\n",
        "\n",
        "submission_5.to_csv('submission_5.csv',index=True)\n",
        "submission_5.head"
      ],
      "execution_count": null,
      "outputs": [
        {
          "output_type": "execute_result",
          "data": {
            "text/plain": [
              "<bound method NDFrame.head of        target\n",
              "id           \n",
              "0           1\n",
              "2           1\n",
              "3           1\n",
              "9           1\n",
              "11          1\n",
              "...       ...\n",
              "10861       1\n",
              "10865       1\n",
              "10868       1\n",
              "10874       1\n",
              "10875       0\n",
              "\n",
              "[3263 rows x 1 columns]>"
            ]
          },
          "metadata": {
            "tags": []
          },
          "execution_count": 38
        }
      ]
    },
    {
      "cell_type": "code",
      "metadata": {
        "id": "9ML52rUtFblm"
      },
      "source": [
        "submission_5=pd.read_csv('test_dat.csv')\n",
        "submission_5['pred']= (predictions>0.5).astype(int)\n",
        "submission_5[['pred', \"target\"]]"
      ],
      "execution_count": null,
      "outputs": []
    },
    {
      "cell_type": "code",
      "metadata": {
        "colab": {
          "base_uri": "https://localhost:8080/"
        },
        "id": "f49VQgnjFNtZ",
        "outputId": "0fcbd9d5-3686-4ffd-ce3f-1680da4a351b"
      },
      "source": [
        "import sklearn\n",
        "\n",
        "print(\"Accuracy With fastText :\")\n",
        "print(sklearn.metrics.accuracy_score(submission_5.target, submission_5.pred))"
      ],
      "execution_count": null,
      "outputs": [
        {
          "output_type": "stream",
          "text": [
            "Accuracy With fastText :\n",
            "1.0\n"
          ],
          "name": "stdout"
        }
      ]
    },
    {
      "cell_type": "code",
      "metadata": {
        "colab": {
          "base_uri": "https://localhost:8080/"
        },
        "id": "HiOWYPO7d0Bb",
        "outputId": "93a4109e-cea3-42f4-da58-2ab423806051"
      },
      "source": [
        "\n",
        "fake_tweets = train[train.target == 0]\n",
        "fake_tweets.shape"
      ],
      "execution_count": null,
      "outputs": [
        {
          "output_type": "execute_result",
          "data": {
            "text/plain": [
              "(4342, 6)"
            ]
          },
          "metadata": {
            "tags": []
          },
          "execution_count": 55
        }
      ]
    },
    {
      "cell_type": "markdown",
      "metadata": {
        "id": "rVYAW6v_l1_A"
      },
      "source": [
        "# cross table\n"
      ]
    },
    {
      "cell_type": "code",
      "metadata": {
        "id": "-ZZhoYu9ub2P"
      },
      "source": [
        "# Check Model Performance\n",
        "accuracy, cf_matrix, precision, recall =predictions\n",
        "print('Accuracy: {} Precision: {} Recall: {}'.format(accuracy, precision, recall))"
      ],
      "execution_count": null,
      "outputs": []
    },
    {
      "cell_type": "code",
      "metadata": {
        "id": "7EydfuP0jEt7"
      },
      "source": [
        "#predictions = model.predict_classes(word_seq_test)\n",
        "predictions = predictions.reshape(1,-1)[0]\n",
        "print(classification_report(word_seq_test, predictions, target_names = ['Rugby (Class 0)','Soccer (Class 1)']))"
      ],
      "execution_count": null,
      "outputs": []
    },
    {
      "cell_type": "markdown",
      "metadata": {
        "id": "-L98e5QUgUm9"
      },
      "source": [
        "# glove model\n"
      ]
    },
    {
      "cell_type": "code",
      "metadata": {
        "id": "urWo3kfZgXC3"
      },
      "source": [
        "import requests, zipfile, io\n",
        "zip_file_url = \"https://nlp.stanford.edu/data/wordvecs/glove.840B.300d.zip\"\n",
        "r = requests.get(zip_file_url)\n",
        "z = zipfile.ZipFile(io.BytesIO(r.content))\n",
        "z.extractall()\n",
        "https://wikipedia2vec.s3-ap-northeast-1.amazonaws.com/misc/text_classification/enwiki_20180420_lg1_300d.pkl.bz2"
      ],
      "execution_count": null,
      "outputs": []
    },
    {
      "cell_type": "code",
      "metadata": {
        "colab": {
          "base_uri": "https://localhost:8080/"
        },
        "id": "A7Z8VseOnlX8",
        "outputId": "efb97fb9-0598-4971-f037-1099525e84b7"
      },
      "source": [
        "#For Pre-Processing\n",
        "from tqdm import tqdm\n",
        "import nltk\n",
        "from nltk.corpus import stopwords\n",
        "nltk.download('stopwords')\n",
        "nltk.download('punkt')\n",
        "from nltk.tokenize import RegexpTokenizer \n",
        "from nltk.tokenize import word_tokenize\n",
        "import os, re, csv, math, codecs\n",
        "\n",
        "\n",
        "# For Training\n",
        "import keras\n",
        "from keras import optimizers\n",
        "from keras import backend as K\n",
        "from keras import regularizers\n",
        "from keras.models import Sequential\n",
        "from keras.layers import Dense, Activation, Dropout, Flatten\n",
        "from keras.layers import Embedding, Conv1D, MaxPooling1D, GlobalMaxPooling1D\n",
        "from tensorflow.keras.layers import Embedding, LSTM, Dense, Dropout, Bidirectional\n",
        "#from keras.utils import plot_model\n",
        "from keras.preprocessing import sequence\n",
        "from keras.preprocessing.text import Tokenizer\n",
        "from keras.callbacks import EarlyStopping\n",
        "\n",
        "# For array, dataset, and visualizing\n",
        "import numpy as np\n",
        "import pandas as pd\n",
        "import seaborn as sns\n",
        "import matplotlib.pyplot as plt\n",
        "\n",
        "sns.set_style(\"whitegrid\")\n",
        "np.random.seed(0)\n",
        "\n",
        "MAX_NB_WORDS = 100000\n",
        "tokenizer = RegexpTokenizer(r'\\w+')\n",
        "stop_words = set(stopwords.words('english'))\n",
        "stop_words.update(['.', ',', '\"', \"'\", ':', ';', '(', ')', '[', ']', '{', '}'])"
      ],
      "execution_count": null,
      "outputs": [
        {
          "output_type": "stream",
          "text": [
            "[nltk_data] Downloading package stopwords to /root/nltk_data...\n",
            "[nltk_data]   Package stopwords is already up-to-date!\n",
            "[nltk_data] Downloading package punkt to /root/nltk_data...\n",
            "[nltk_data]   Package punkt is already up-to-date!\n"
          ],
          "name": "stdout"
        }
      ]
    },
    {
      "cell_type": "code",
      "metadata": {
        "colab": {
          "base_uri": "https://localhost:8080/"
        },
        "id": "00SbOvy8n3fR",
        "outputId": "ae0af778-d6df-4bc9-f3ba-9df9b97fa4cf"
      },
      "source": [
        "print('loading word embeddings...')\n",
        "\n",
        "embeddings_index = {}\n",
        "f = codecs.open('/content/glove.840B.300d.txt', encoding='utf-8')\n",
        "\n",
        "for line in tqdm(f):\n",
        "    values = line.rstrip().rsplit(' ')\n",
        "    word = values[0]\n",
        "    coefs = np.asarray(values[1:], dtype='float32')\n",
        "    embeddings_index[word] = coefs\n",
        "f.close()\n",
        "\n",
        "print('found %s word vectors' % len(embeddings_index))"
      ],
      "execution_count": null,
      "outputs": [
        {
          "output_type": "stream",
          "text": [
            "952it [00:00, 9512.03it/s]"
          ],
          "name": "stderr"
        },
        {
          "output_type": "stream",
          "text": [
            "loading word embeddings...\n"
          ],
          "name": "stdout"
        },
        {
          "output_type": "stream",
          "text": [
            "2196019it [03:31, 10392.53it/s]"
          ],
          "name": "stderr"
        },
        {
          "output_type": "stream",
          "text": [
            "found 2196017 word vectors\n"
          ],
          "name": "stdout"
        },
        {
          "output_type": "stream",
          "text": [
            "\n"
          ],
          "name": "stderr"
        }
      ]
    },
    {
      "cell_type": "code",
      "metadata": {
        "colab": {
          "base_uri": "https://localhost:8080/"
        },
        "id": "92BlSHDQsgVu",
        "outputId": "c232059c-74d8-4cbf-f97f-85ff140c6716"
      },
      "source": [
        "#load the data\n",
        "#load the triannig data\n",
        "train_1 = pd.read_csv(\"/content/drive/MyDrive/nlp_tweeter/train.csv\")\n",
        "test_1 = pd.read_csv(\"/content/drive/MyDrive/nlp_tweeter/test.csv\")\n",
        "print(\"Number of training data \", train.shape[0])\n",
        "print(\"Number of testing data: \", test.shape[0])"
      ],
      "execution_count": null,
      "outputs": [
        {
          "output_type": "stream",
          "text": [
            "Number of training data  7613\n",
            "Number of testing data:  3263\n"
          ],
          "name": "stdout"
        }
      ]
    },
    {
      "cell_type": "code",
      "metadata": {
        "colab": {
          "base_uri": "https://localhost:8080/",
          "height": 352
        },
        "id": "Vj7U8Fp5slc5",
        "outputId": "1f76660a-e3a8-497b-ddd6-3139173c1ee6"
      },
      "source": [
        "label_names_1 = [\"target\"]\n",
        "y_train_1 = train[label_names_1].values\n",
        "train_1['doc_len'] = train_1['text'].apply(lambda words: len(words.split(\" \")))\n",
        "max_seq_len = np.round(train_1['doc_len'].mean() + train['doc_len'].std()).astype(int)\n",
        "\n",
        "sns.distplot(train['doc_len'], hist=True, kde=True, color='b', label='doc len')\n",
        "plt.axvline(x=max_seq_len, color='k', linestyle='--', label='max len')\n",
        "plt.title('comment length'); plt.legend()\n",
        "plt.show()"
      ],
      "execution_count": null,
      "outputs": [
        {
          "output_type": "stream",
          "text": [
            "/usr/local/lib/python3.7/dist-packages/seaborn/distributions.py:2557: FutureWarning: `distplot` is a deprecated function and will be removed in a future version. Please adapt your code to use either `displot` (a figure-level function with similar flexibility) or `histplot` (an axes-level function for histograms).\n",
            "  warnings.warn(msg, FutureWarning)\n"
          ],
          "name": "stderr"
        },
        {
          "output_type": "display_data",
          "data": {
            "image/png": "[encoded data removed]",
            "text/plain": [
              "<Figure size 432x288 with 1 Axes>"
            ]
          },
          "metadata": {
            "tags": []
          }
        }
      ]
    },
    {
      "cell_type": "code",
      "metadata": {
        "colab": {
          "base_uri": "https://localhost:8080/"
        },
        "id": "gWyemvBys7gJ",
        "outputId": "696ca9ba-68e4-4db1-d8a7-713f370a165b"
      },
      "source": [
        "from sklearn.utils import shuffle \n",
        "\n",
        "raw_docs_train = train_1['text'].tolist()\n",
        "raw_docs_test = test_1['text'].tolist() \n",
        "num_classes = len(label_names_1)\n",
        "\n",
        "print(\"pre-processing train data...\")\n",
        "\n",
        "processed_docs_train = []\n",
        "for doc in tqdm(raw_docs_train):\n",
        "    tokens = word_tokenize(doc)\n",
        "    filtered = [word for word in tokens if word not in stop_words]\n",
        "    processed_docs_train.append(\" \".join(filtered))\n",
        "#end for\n",
        "\n",
        "processed_docs_test = []\n",
        "for doc in tqdm(raw_docs_test):\n",
        "    tokens = word_tokenize(doc)\n",
        "    filtered = [word for word in tokens if word not in stop_words]\n",
        "    processed_docs_test.append(\" \".join(filtered))\n",
        "#end for\n",
        "\n",
        "print(\"tokenizing input data...\")\n",
        "tokenizer = Tokenizer(num_words=MAX_NB_WORDS, lower=True, char_level=False)\n",
        "tokenizer.fit_on_texts(processed_docs_train + processed_docs_test)  #leaky\n",
        "word_seq_train = tokenizer.texts_to_sequences(processed_docs_train)\n",
        "word_seq_test = tokenizer.texts_to_sequences(processed_docs_test)\n",
        "word_index = tokenizer.word_index\n",
        "print(\"dictionary size: \", len(word_index))\n",
        "\n",
        "#pad sequences\n",
        "word_seq_train = sequence.pad_sequences(word_seq_train, maxlen=max_seq_len)\n",
        "word_seq_test = sequence.pad_sequences(word_seq_test, maxlen=max_seq_len)"
      ],
      "execution_count": null,
      "outputs": [
        {
          "output_type": "stream",
          "text": [
            "  7%|▋         | 554/7613 [00:00<00:01, 5527.50it/s]"
          ],
          "name": "stderr"
        },
        {
          "output_type": "stream",
          "text": [
            "pre-processing train data...\n"
          ],
          "name": "stdout"
        },
        {
          "output_type": "stream",
          "text": [
            "100%|██████████| 7613/7613 [00:01<00:00, 5366.45it/s]\n",
            "100%|██████████| 3263/3263 [00:00<00:00, 4970.36it/s]\n"
          ],
          "name": "stderr"
        },
        {
          "output_type": "stream",
          "text": [
            "tokenizing input data...\n",
            "dictionary size:  28717\n"
          ],
          "name": "stdout"
        }
      ]
    },
    {
      "cell_type": "code",
      "metadata": {
        "id": "sGK36nletUDW"
      },
      "source": [
        "#training params\n",
        "batch_size = 250\n",
        "num_epochs = 40\n",
        "\n",
        "#model parameters\n",
        "num_filters = 64 \n",
        "embed_dim = 300 \n",
        "weight_decay = 1e-4"
      ],
      "execution_count": null,
      "outputs": []
    },
    {
      "cell_type": "code",
      "metadata": {
        "colab": {
          "base_uri": "https://localhost:8080/"
        },
        "id": "R8WJRLcitazP",
        "outputId": "aeb0ad04-f63d-4cfb-c025-48d7e11dcf80"
      },
      "source": [
        "#embedding matrix\n",
        "\n",
        "print('preparing embedding matrix...')\n",
        "\n",
        "words_not_found = []\n",
        "nb_words = min(MAX_NB_WORDS, len(word_index)+1)\n",
        "embedding_matrix = np.zeros((nb_words, embed_dim))\n",
        "\n",
        "for word, i in word_index.items():\n",
        "    if i >= nb_words:\n",
        "        continue\n",
        "    embedding_vector = embeddings_index.get(word)\n",
        "    if (embedding_vector is not None) and len(embedding_vector) > 0:\n",
        "        # words not found in embedding index will be all-zeros.\n",
        "        embedding_matrix[i] = embedding_vector\n",
        "    else:\n",
        "        words_not_found.append(word)\n",
        "print('number of null word embeddings: %d' % np.sum(np.sum(embedding_matrix, axis=1) == 0))"
      ],
      "execution_count": null,
      "outputs": [
        {
          "output_type": "stream",
          "text": [
            "preparing embedding matrix...\n",
            "number of null word embeddings: 13000\n"
          ],
          "name": "stdout"
        }
      ]
    },
    {
      "cell_type": "code",
      "metadata": {
        "colab": {
          "base_uri": "https://localhost:8080/"
        },
        "id": "5cWFvw4DtxMo",
        "outputId": "fc119821-77d4-4d93-b0f8-992be99420f3"
      },
      "source": [
        "print(\"sample words not found: \", np.random.choice(words_not_found, 20))"
      ],
      "execution_count": null,
      "outputs": [
        {
          "output_type": "stream",
          "text": [
            "sample words not found:  [\"'as\" 'awesomejobsiri' 'gududaz4fx' \"'reunion\" '0c1y8g7e9p' 'aawzxykles'\n",
            " 'wc69xajis4' 'tookitlikeaman' '\\x89û÷muslim' '41l8tqcaey'\n",
            " 'abbruchsimulator' 'tanstaafl23' 'jxhazebnqk' 'qgk64ypn13' 'ngehhg9yga'\n",
            " 'sammysosita' 'x9mdhocpda' 'nyorks' \"'demolish\" 'cg9gakbpta']\n"
          ],
          "name": "stdout"
        }
      ]
    },
    {
      "cell_type": "code",
      "metadata": {
        "id": "YQlqevwBwyGJ"
      },
      "source": [
        "\n",
        "# we don't want the model to overwrite\n",
        "keras.backend.clear_session()"
      ],
      "execution_count": null,
      "outputs": []
    },
    {
      "cell_type": "code",
      "metadata": {
        "colab": {
          "base_uri": "https://localhost:8080/"
        },
        "id": "dXQPmRmOt4YE",
        "outputId": "a0b303b6-b02c-476c-bfb1-88cf2becf3d7"
      },
      "source": [
        "from keras.layers import BatchNormalization\n",
        "import tensorflow as tf\n",
        "\n",
        "model_glove = tf.keras.Sequential()\n",
        "\n",
        "model_glove.add(Embedding(nb_words,embed_dim,input_length=max_seq_len, weights=[embedding_matrix],trainable=False))\n",
        "model_glove.add(Bidirectional(LSTM(32)))\n",
        "model_glove.add(Dense(32,activation='relu'))\n",
        "model_glove.add(Dropout(0.3))\n",
        "model_glove.add(Dense(1,activation='sigmoid'))\n",
        "model_glove.summary()"
      ],
      "execution_count": null,
      "outputs": [
        {
          "output_type": "stream",
          "text": [
            "Model: \"sequential\"\n",
            "_________________________________________________________________\n",
            "Layer (type)                 Output Shape              Param #   \n",
            "=================================================================\n",
            "embedding (Embedding)        (None, 21, 300)           8615400   \n",
            "_________________________________________________________________\n",
            "bidirectional (Bidirectional (None, 64)                85248     \n",
            "_________________________________________________________________\n",
            "dense (Dense)                (None, 32)                2080      \n",
            "_________________________________________________________________\n",
            "dropout (Dropout)            (None, 32)                0         \n",
            "_________________________________________________________________\n",
            "dense_1 (Dense)              (None, 1)                 33        \n",
            "=================================================================\n",
            "Total params: 8,702,761\n",
            "Trainable params: 87,361\n",
            "Non-trainable params: 8,615,400\n",
            "_________________________________________________________________\n"
          ],
          "name": "stdout"
        }
      ]
    },
    {
      "cell_type": "code",
      "metadata": {
        "id": "9fK1qUi0yvHr"
      },
      "source": [
        "\n",
        "from keras.optimizers import RMSprop\n",
        "from keras.callbacks import ModelCheckpoint\n",
        "from tensorflow.keras.callbacks import EarlyStopping\n",
        "model_glove.compile(loss='binary_crossentropy',optimizer='adam',metrics=['accuracy'])\n"
      ],
      "execution_count": null,
      "outputs": []
    },
    {
      "cell_type": "code",
      "metadata": {
        "colab": {
          "base_uri": "https://localhost:8080/"
        },
        "id": "OP8YHmv6y6I3",
        "outputId": "ebf6cfc6-b03d-45a4-9654-56329a039ddd"
      },
      "source": [
        "es_callback = EarlyStopping(monitor='vol_loss',patience=3)\n",
        "history_glove = model_glove.fit(word_seq_train,y_train_1,batch_size=250,\n",
        "                                epochs=num_epochs, validation_split=0.3, callbacks=[es_callback],shuffle=False)\n"
      ],
      "execution_count": null,
      "outputs": [
        {
          "output_type": "stream",
          "text": [
            "Epoch 1/40\n",
            "22/22 [==============================] - 5s 45ms/step - loss: 0.6511 - accuracy: 0.6313 - val_loss: 0.5683 - val_accuracy: 0.7198\n",
            "WARNING:tensorflow:Early stopping conditioned on metric `vol_loss` which is not available. Available metrics are: loss,accuracy,val_loss,val_accuracy\n",
            "Epoch 2/40\n",
            "22/22 [==============================] - 0s 12ms/step - loss: 0.5439 - accuracy: 0.7472 - val_loss: 0.4814 - val_accuracy: 0.7719\n",
            "WARNING:tensorflow:Early stopping conditioned on metric `vol_loss` which is not available. Available metrics are: loss,accuracy,val_loss,val_accuracy\n",
            "Epoch 3/40\n",
            "22/22 [==============================] - 0s 12ms/step - loss: 0.4704 - accuracy: 0.7955 - val_loss: 0.4580 - val_accuracy: 0.7942\n",
            "WARNING:tensorflow:Early stopping conditioned on metric `vol_loss` which is not available. Available metrics are: loss,accuracy,val_loss,val_accuracy\n",
            "Epoch 4/40\n",
            "22/22 [==============================] - 0s 12ms/step - loss: 0.4395 - accuracy: 0.8082 - val_loss: 0.4497 - val_accuracy: 0.7995\n",
            "WARNING:tensorflow:Early stopping conditioned on metric `vol_loss` which is not available. Available metrics are: loss,accuracy,val_loss,val_accuracy\n",
            "Epoch 5/40\n",
            "22/22 [==============================] - 0s 13ms/step - loss: 0.4167 - accuracy: 0.8229 - val_loss: 0.4462 - val_accuracy: 0.7990\n",
            "WARNING:tensorflow:Early stopping conditioned on metric `vol_loss` which is not available. Available metrics are: loss,accuracy,val_loss,val_accuracy\n",
            "Epoch 6/40\n",
            "22/22 [==============================] - 0s 13ms/step - loss: 0.3957 - accuracy: 0.8334 - val_loss: 0.4518 - val_accuracy: 0.7982\n",
            "WARNING:tensorflow:Early stopping conditioned on metric `vol_loss` which is not available. Available metrics are: loss,accuracy,val_loss,val_accuracy\n",
            "Epoch 7/40\n",
            "22/22 [==============================] - 0s 11ms/step - loss: 0.3775 - accuracy: 0.8469 - val_loss: 0.4530 - val_accuracy: 0.8030\n",
            "WARNING:tensorflow:Early stopping conditioned on metric `vol_loss` which is not available. Available metrics are: loss,accuracy,val_loss,val_accuracy\n",
            "Epoch 8/40\n",
            "22/22 [==============================] - 0s 11ms/step - loss: 0.3610 - accuracy: 0.8521 - val_loss: 0.4553 - val_accuracy: 0.8060\n",
            "WARNING:tensorflow:Early stopping conditioned on metric `vol_loss` which is not available. Available metrics are: loss,accuracy,val_loss,val_accuracy\n",
            "Epoch 9/40\n",
            "22/22 [==============================] - 0s 11ms/step - loss: 0.3429 - accuracy: 0.8608 - val_loss: 0.4798 - val_accuracy: 0.8039\n",
            "WARNING:tensorflow:Early stopping conditioned on metric `vol_loss` which is not available. Available metrics are: loss,accuracy,val_loss,val_accuracy\n",
            "Epoch 10/40\n",
            "22/22 [==============================] - 0s 10ms/step - loss: 0.3242 - accuracy: 0.8716 - val_loss: 0.4990 - val_accuracy: 0.7920\n",
            "WARNING:tensorflow:Early stopping conditioned on metric `vol_loss` which is not available. Available metrics are: loss,accuracy,val_loss,val_accuracy\n",
            "Epoch 11/40\n",
            "22/22 [==============================] - 0s 10ms/step - loss: 0.3002 - accuracy: 0.8822 - val_loss: 0.5438 - val_accuracy: 0.7863\n",
            "WARNING:tensorflow:Early stopping conditioned on metric `vol_loss` which is not available. Available metrics are: loss,accuracy,val_loss,val_accuracy\n",
            "Epoch 12/40\n",
            "22/22 [==============================] - 0s 10ms/step - loss: 0.2781 - accuracy: 0.8949 - val_loss: 0.5282 - val_accuracy: 0.7912\n",
            "WARNING:tensorflow:Early stopping conditioned on metric `vol_loss` which is not available. Available metrics are: loss,accuracy,val_loss,val_accuracy\n",
            "Epoch 13/40\n",
            "22/22 [==============================] - 0s 11ms/step - loss: 0.2605 - accuracy: 0.8998 - val_loss: 0.6903 - val_accuracy: 0.7075\n",
            "WARNING:tensorflow:Early stopping conditioned on metric `vol_loss` which is not available. Available metrics are: loss,accuracy,val_loss,val_accuracy\n",
            "Epoch 14/40\n",
            "22/22 [==============================] - 0s 11ms/step - loss: 0.2768 - accuracy: 0.8867 - val_loss: 0.5098 - val_accuracy: 0.8095\n",
            "WARNING:tensorflow:Early stopping conditioned on metric `vol_loss` which is not available. Available metrics are: loss,accuracy,val_loss,val_accuracy\n",
            "Epoch 15/40\n",
            "22/22 [==============================] - 0s 11ms/step - loss: 0.2764 - accuracy: 0.8842 - val_loss: 0.4970 - val_accuracy: 0.8060\n",
            "WARNING:tensorflow:Early stopping conditioned on metric `vol_loss` which is not available. Available metrics are: loss,accuracy,val_loss,val_accuracy\n",
            "Epoch 16/40\n",
            "22/22 [==============================] - 0s 11ms/step - loss: 0.2690 - accuracy: 0.8891 - val_loss: 0.5633 - val_accuracy: 0.7863\n",
            "WARNING:tensorflow:Early stopping conditioned on metric `vol_loss` which is not available. Available metrics are: loss,accuracy,val_loss,val_accuracy\n",
            "Epoch 17/40\n",
            "22/22 [==============================] - 0s 11ms/step - loss: 0.2187 - accuracy: 0.9157 - val_loss: 0.5613 - val_accuracy: 0.7793\n",
            "WARNING:tensorflow:Early stopping conditioned on metric `vol_loss` which is not available. Available metrics are: loss,accuracy,val_loss,val_accuracy\n",
            "Epoch 18/40\n",
            "22/22 [==============================] - 0s 10ms/step - loss: 0.2226 - accuracy: 0.9156 - val_loss: 0.5666 - val_accuracy: 0.7859\n",
            "WARNING:tensorflow:Early stopping conditioned on metric `vol_loss` which is not available. Available metrics are: loss,accuracy,val_loss,val_accuracy\n",
            "Epoch 19/40\n",
            "22/22 [==============================] - 0s 11ms/step - loss: 0.2445 - accuracy: 0.8996 - val_loss: 0.5697 - val_accuracy: 0.7885\n",
            "WARNING:tensorflow:Early stopping conditioned on metric `vol_loss` which is not available. Available metrics are: loss,accuracy,val_loss,val_accuracy\n",
            "Epoch 20/40\n",
            "22/22 [==============================] - 0s 11ms/step - loss: 0.2136 - accuracy: 0.9182 - val_loss: 0.6930 - val_accuracy: 0.7833\n",
            "WARNING:tensorflow:Early stopping conditioned on metric `vol_loss` which is not available. Available metrics are: loss,accuracy,val_loss,val_accuracy\n",
            "Epoch 21/40\n",
            "22/22 [==============================] - 0s 11ms/step - loss: 0.1838 - accuracy: 0.9302 - val_loss: 0.6616 - val_accuracy: 0.8008\n",
            "WARNING:tensorflow:Early stopping conditioned on metric `vol_loss` which is not available. Available metrics are: loss,accuracy,val_loss,val_accuracy\n",
            "Epoch 22/40\n",
            "22/22 [==============================] - 0s 11ms/step - loss: 0.1601 - accuracy: 0.9401 - val_loss: 0.7919 - val_accuracy: 0.7719\n",
            "WARNING:tensorflow:Early stopping conditioned on metric `vol_loss` which is not available. Available metrics are: loss,accuracy,val_loss,val_accuracy\n",
            "Epoch 23/40\n",
            "22/22 [==============================] - 0s 11ms/step - loss: 0.1374 - accuracy: 0.9484 - val_loss: 0.7121 - val_accuracy: 0.7881\n",
            "WARNING:tensorflow:Early stopping conditioned on metric `vol_loss` which is not available. Available metrics are: loss,accuracy,val_loss,val_accuracy\n",
            "Epoch 24/40\n",
            "22/22 [==============================] - 0s 11ms/step - loss: 0.1284 - accuracy: 0.9529 - val_loss: 0.7777 - val_accuracy: 0.7815\n",
            "WARNING:tensorflow:Early stopping conditioned on metric `vol_loss` which is not available. Available metrics are: loss,accuracy,val_loss,val_accuracy\n",
            "Epoch 25/40\n",
            "22/22 [==============================] - 0s 10ms/step - loss: 0.1254 - accuracy: 0.9520 - val_loss: 1.0240 - val_accuracy: 0.7285\n",
            "WARNING:tensorflow:Early stopping conditioned on metric `vol_loss` which is not available. Available metrics are: loss,accuracy,val_loss,val_accuracy\n",
            "Epoch 26/40\n",
            "22/22 [==============================] - 0s 11ms/step - loss: 0.1451 - accuracy: 0.9420 - val_loss: 0.7223 - val_accuracy: 0.7929\n",
            "WARNING:tensorflow:Early stopping conditioned on metric `vol_loss` which is not available. Available metrics are: loss,accuracy,val_loss,val_accuracy\n",
            "Epoch 27/40\n",
            "22/22 [==============================] - 0s 11ms/step - loss: 0.1438 - accuracy: 0.9401 - val_loss: 0.8041 - val_accuracy: 0.7903\n",
            "WARNING:tensorflow:Early stopping conditioned on metric `vol_loss` which is not available. Available metrics are: loss,accuracy,val_loss,val_accuracy\n",
            "Epoch 28/40\n",
            "22/22 [==============================] - 0s 10ms/step - loss: 0.1307 - accuracy: 0.9503 - val_loss: 0.9206 - val_accuracy: 0.7802\n",
            "WARNING:tensorflow:Early stopping conditioned on metric `vol_loss` which is not available. Available metrics are: loss,accuracy,val_loss,val_accuracy\n",
            "Epoch 29/40\n",
            "22/22 [==============================] - 0s 12ms/step - loss: 0.1084 - accuracy: 0.9613 - val_loss: 0.8408 - val_accuracy: 0.8012\n",
            "WARNING:tensorflow:Early stopping conditioned on metric `vol_loss` which is not available. Available metrics are: loss,accuracy,val_loss,val_accuracy\n",
            "Epoch 30/40\n",
            "22/22 [==============================] - 0s 10ms/step - loss: 0.1230 - accuracy: 0.9493 - val_loss: 0.8287 - val_accuracy: 0.7995\n",
            "WARNING:tensorflow:Early stopping conditioned on metric `vol_loss` which is not available. Available metrics are: loss,accuracy,val_loss,val_accuracy\n",
            "Epoch 31/40\n",
            "22/22 [==============================] - 0s 11ms/step - loss: 0.0929 - accuracy: 0.9653 - val_loss: 0.9994 - val_accuracy: 0.7833\n",
            "WARNING:tensorflow:Early stopping conditioned on metric `vol_loss` which is not available. Available metrics are: loss,accuracy,val_loss,val_accuracy\n",
            "Epoch 32/40\n",
            "22/22 [==============================] - 0s 10ms/step - loss: 0.1116 - accuracy: 0.9559 - val_loss: 1.0260 - val_accuracy: 0.7671\n",
            "WARNING:tensorflow:Early stopping conditioned on metric `vol_loss` which is not available. Available metrics are: loss,accuracy,val_loss,val_accuracy\n",
            "Epoch 33/40\n",
            "22/22 [==============================] - 0s 10ms/step - loss: 0.1160 - accuracy: 0.9529 - val_loss: 0.9538 - val_accuracy: 0.7850\n",
            "WARNING:tensorflow:Early stopping conditioned on metric `vol_loss` which is not available. Available metrics are: loss,accuracy,val_loss,val_accuracy\n",
            "Epoch 34/40\n",
            "22/22 [==============================] - 0s 11ms/step - loss: 0.1326 - accuracy: 0.9482 - val_loss: 0.9383 - val_accuracy: 0.7745\n",
            "WARNING:tensorflow:Early stopping conditioned on metric `vol_loss` which is not available. Available metrics are: loss,accuracy,val_loss,val_accuracy\n",
            "Epoch 35/40\n",
            "22/22 [==============================] - 0s 11ms/step - loss: 0.1605 - accuracy: 0.9294 - val_loss: 0.7910 - val_accuracy: 0.7964\n",
            "WARNING:tensorflow:Early stopping conditioned on metric `vol_loss` which is not available. Available metrics are: loss,accuracy,val_loss,val_accuracy\n",
            "Epoch 36/40\n",
            "22/22 [==============================] - 0s 11ms/step - loss: 0.1606 - accuracy: 0.9332 - val_loss: 0.8056 - val_accuracy: 0.7802\n",
            "WARNING:tensorflow:Early stopping conditioned on metric `vol_loss` which is not available. Available metrics are: loss,accuracy,val_loss,val_accuracy\n",
            "Epoch 37/40\n",
            "22/22 [==============================] - 0s 10ms/step - loss: 0.1392 - accuracy: 0.9420 - val_loss: 1.0326 - val_accuracy: 0.7640\n",
            "WARNING:tensorflow:Early stopping conditioned on metric `vol_loss` which is not available. Available metrics are: loss,accuracy,val_loss,val_accuracy\n",
            "Epoch 38/40\n",
            "22/22 [==============================] - 0s 12ms/step - loss: 0.1089 - accuracy: 0.9574 - val_loss: 1.1930 - val_accuracy: 0.7500\n",
            "WARNING:tensorflow:Early stopping conditioned on metric `vol_loss` which is not available. Available metrics are: loss,accuracy,val_loss,val_accuracy\n",
            "Epoch 39/40\n",
            "22/22 [==============================] - 0s 12ms/step - loss: 0.1189 - accuracy: 0.9521 - val_loss: 1.0178 - val_accuracy: 0.7531\n",
            "WARNING:tensorflow:Early stopping conditioned on metric `vol_loss` which is not available. Available metrics are: loss,accuracy,val_loss,val_accuracy\n",
            "Epoch 40/40\n",
            "22/22 [==============================] - 0s 11ms/step - loss: 0.0913 - accuracy: 0.9655 - val_loss: 0.8848 - val_accuracy: 0.7907\n",
            "WARNING:tensorflow:Early stopping conditioned on metric `vol_loss` which is not available. Available metrics are: loss,accuracy,val_loss,val_accuracy\n"
          ],
          "name": "stdout"
        }
      ]
    },
    {
      "cell_type": "code",
      "metadata": {
        "id": "pG2k8ulL5eWZ"
      },
      "source": [
        "predictions = model_glove.predict_classes(word_seq_test)\n",
        "sample=pd.read_csv('test_dat.csv')\n",
        "sample['pred']= (predictions>0.5).astype(int)"
      ],
      "execution_count": null,
      "outputs": []
    },
    {
      "cell_type": "code",
      "metadata": {
        "id": "ZgHZA1YI40DH"
      },
      "source": [
        "import requests, zipfile, io\n",
        "zip_file_url = \"https://wikipedia2vec.s3-ap-northeast-1.amazonaws.com/misc/text_classification/enwiki_20180420_lg1_300d.pkl.bz2\"\n",
        "r = requests.get(zip_file_url)\n",
        "z = zipfile.ZipFile(io.BytesIO(r.content))\n",
        "z.extractall()"
      ],
      "execution_count": null,
      "outputs": []
    }
  ]
}